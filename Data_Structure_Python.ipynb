{
  "nbformat": 4,
  "nbformat_minor": 0,
  "metadata": {
    "colab": {
      "provenance": []
    },
    "kernelspec": {
      "name": "python3",
      "display_name": "Python 3"
    },
    "language_info": {
      "name": "python"
    }
  },
  "cells": [
    {
      "cell_type": "markdown",
      "source": [
        "# Theory Questions:"
      ],
      "metadata": {
        "id": "13rbRxypk3xn"
      }
    },
    {
      "cell_type": "markdown",
      "source": [
        "1: What are data structures, and why are they important?\n",
        "  - Data Structure si a way of organizing and storing data so that it can be accessed and manipulated effeciently.\n",
        "  - They improve the performance of ptograms and make data handling easier using built-in types like lists, dictionaries, sets and tuples."
      ],
      "metadata": {
        "id": "fqT6tjDMk_ow"
      }
    },
    {
      "cell_type": "markdown",
      "source": [
        "2: Explain the difference between mutable and immutable data types with examples:\n",
        "  - Mutable: objects can be changed after creation: list, dictionary, set.\n",
        "  - Example:\n",
        "\n",
        "    my_list = [1, 2, 3]  \n",
        "    my_list[0] = 10  # List changed\n",
        "  - Immutable: objects cannot be changed after creation: int, string, tuple.\n",
        "  - Example:\n",
        "\n",
        "    my_str = \"hello\"  \n",
        "    my_str[0] = \"H\"  # Error: strings are immutable"
      ],
      "metadata": {
        "id": "yptfRttGmuBc"
      }
    },
    {
      "cell_type": "markdown",
      "source": [
        "3: What are the main differences between lists and tuples in Python?\n",
        "  - List are mutable while tuples are immutable.\n",
        "  - List use square brackets [] while tuples use circle brackets ()"
      ],
      "metadata": {
        "id": "deJWW9Mwmvsj"
      }
    },
    {
      "cell_type": "markdown",
      "source": [
        "4: Describe how dictionaries store data:\n",
        "  - A dictionary stores data in the form of key-value pairs.\n",
        "  - Each key is unique but values can be same.\n",
        "  - Python dictionaries use curly brackets {} to stoer data and use colon : to saperate key-value pairs."
      ],
      "metadata": {
        "id": "4J2LNXVnnJlA"
      }
    },
    {
      "cell_type": "markdown",
      "source": [
        "5: Why might you use a set instead of a list in Python?\n",
        "  - A set is used instead of a list when you want to store unique values only and do not care about the order.\n",
        "  - Sets also provide faster result checking 'in' compared to lists."
      ],
      "metadata": {
        "id": "cYsgJ7BMnzY9"
      }
    },
    {
      "cell_type": "markdown",
      "source": [
        "6: What is a string in Python, and how is it different from a list?\n",
        "  - A string in Python is a sequence of characters enclosed in quotes or double quotes.\n",
        "  - The main difference is that strings are immutable, while lists are mutable and can be modified."
      ],
      "metadata": {
        "id": "ypf47cjWoCEt"
      }
    },
    {
      "cell_type": "markdown",
      "source": [
        "7: How do tuples ensure data integrity in Python?\n",
        "  - Tuples are immutable, meaning their elements cannot be changed after creation.\n",
        "  - This immutability ensures that the data remains constant and secure, helping maintain data integrity when the values should not be modified accidentally."
      ],
      "metadata": {
        "id": "LDkie6Ggoh7W"
      }
    },
    {
      "cell_type": "markdown",
      "source": [
        "8: What is a hash table, and how does it relate to dictionaries in Python?\n",
        "  - A hash table is a data structure that stores data in key-value pairs using a hashing function to compute the index of each key."
      ],
      "metadata": {
        "id": "IEg4Ku0fohv4"
      }
    },
    {
      "cell_type": "markdown",
      "source": [
        "9: Can lists contain different data types in Python?\n",
        "  - Yes, List is hatroginus data in python.\n",
        "  - Means the list can store any type of data types."
      ],
      "metadata": {
        "id": "l39dc9rvohmJ"
      }
    },
    {
      "cell_type": "markdown",
      "source": [
        "10: Explain why strings are immutable in Python?\n",
        "  - Strings are immutable in Python to ensure security, consistency, and efficiency.\n",
        "  - Once created, a string cannot be changed, which helps prevent accidental modification, allows safe sharing across programs."
      ],
      "metadata": {
        "id": "KEnin9A_ohRM"
      }
    },
    {
      "cell_type": "markdown",
      "source": [
        "11: What advantages do dictionaries offer over lists for certain tasks?\n",
        "  - Dictionaries provide faster access to data using keys, while lists require searching by index or value.\n",
        "  - They are ideal for tasks that need key-value mapping, like storing student records, where data lookup is more efficient than with lists."
      ],
      "metadata": {
        "id": "WKX3YR5IqGuL"
      }
    },
    {
      "cell_type": "markdown",
      "source": [
        "12: Describe a scenario where using a tuple would be preferable over a list:\n",
        "  - A tuple is preferable when you want to store fixed, unchangeable data.\n",
        "  - For example, using a tuple to store the coordinates of a point (x, y) ensures the values remain constant and are not accidentally modified during program execution."
      ],
      "metadata": {
        "id": "arlqkVykqGkt"
      }
    },
    {
      "cell_type": "markdown",
      "source": [
        "13: How do sets handle duplicate values in Python?\n",
        "  - Sets in Python automatically remove duplicate values.\n",
        "  - When you add duplicate items to a set, only one unique copy is stored, ensuring that all elements in a set are distinct."
      ],
      "metadata": {
        "id": "axW0vfZ-qGbA"
      }
    },
    {
      "cell_type": "markdown",
      "source": [
        "14: How does the “in” keyword work differently for lists and dictionaries?\n",
        "  - In a list, the \"in\" keyword checks if a value exists among the elements.\n",
        "  - In a dictionary, the \"in\" keyword checks if a key exists (not the value)."
      ],
      "metadata": {
        "id": "p_G4oHBtqGP0"
      }
    },
    {
      "cell_type": "markdown",
      "source": [
        "15: Can you modify the elements of a tuple? Explain why or why not:\n",
        "  - No, we can not modify the elemets of a tuple.\n",
        "  - Tuples are immutable so that once declared, it can not be modified."
      ],
      "metadata": {
        "id": "u3-xSJHZqGIE"
      }
    },
    {
      "cell_type": "markdown",
      "source": [
        "16: What is a nasted dictionary, and give an example of its use case:\n",
        "  - A nested dictionary is a dictionary where the values are also dictionaries. It is used to organize complex data, such as storing details of multiple students or employees.\n",
        "  - Example:\n",
        "  students = {\n",
        "    \"101\": {\"name\": \"Diya\", \"age\": 20},\n",
        "    \"102\": {\"name\": \"Raj\", \"age\": 21},\n",
        "}"
      ],
      "metadata": {
        "id": "xozcjqSQqFy4"
      }
    },
    {
      "cell_type": "markdown",
      "source": [
        "17: Describe the time complexity of accessing elements in a dictionary:\n",
        "  - -"
      ],
      "metadata": {
        "id": "YiWdZhf1wRer"
      }
    },
    {
      "cell_type": "markdown",
      "source": [
        "18: In what situations are lists preferred over dictionary?\n",
        "  - Lists are preferred when the order of elements matters or when you only need to store simple, sequential data without key-value mapping.\n",
        "  - They are ideal for tasks like iterating over items, storing a collection of values, or accessing by index."
      ],
      "metadata": {
        "id": "dU5mqj1gwp9k"
      }
    },
    {
      "cell_type": "markdown",
      "source": [
        "19: Why are dictionaries considered unordered, and how does that affect data retrieval?\n",
        "  - Dictionaries are considered unordered because they do not store items in a fixed sequence like lists.\n",
        "  - This means data is retrieved using keys, not by position, and the order of insertion is not guaranteed to affect how data is accessed."
      ],
      "metadata": {
        "id": "O224kdUnycEn"
      }
    },
    {
      "cell_type": "markdown",
      "source": [
        "20: Explain the difference between a list and a dictionary in terms of data retrieval:\n",
        "  - In a list, data is retrieved using a numeric index, such as list[0].\n",
        "  - In a dictionary, data is retrieved using a key, such as dict[\"name\"].\n",
        "  - Dictionaries allow faster lookup when you know the key, while lists require knowing the exact position."
      ],
      "metadata": {
        "id": "YDUb1N9wzFQ0"
      }
    },
    {
      "cell_type": "markdown",
      "source": [
        "# Practical Questions:"
      ],
      "metadata": {
        "id": "dK6rZ_PNzWsF"
      }
    },
    {
      "cell_type": "code",
      "execution_count": 1,
      "metadata": {
        "colab": {
          "base_uri": "https://localhost:8080/"
        },
        "id": "F-mUh0wpk0tq",
        "outputId": "3c3dbd59-6abd-4477-f27c-d006ba159db4"
      },
      "outputs": [
        {
          "output_type": "stream",
          "name": "stdout",
          "text": [
            "Enter your name: Diya\n",
            "Hello, Diya\n"
          ]
        }
      ],
      "source": [
        "# 1: Write a code to create a string with your name and print it:\n",
        "name = input(\"Enter your name: \")\n",
        "print(f\"Hello, {name}\")"
      ]
    },
    {
      "cell_type": "code",
      "source": [
        "# 2: Write a code to find the length of the string \"Hello World\":\n",
        "print(len(\"Hello World\"))"
      ],
      "metadata": {
        "colab": {
          "base_uri": "https://localhost:8080/"
        },
        "id": "ADao_vT30E8s",
        "outputId": "3729504c-f466-428c-c3df-c9b0caf31f69"
      },
      "execution_count": 2,
      "outputs": [
        {
          "output_type": "stream",
          "name": "stdout",
          "text": [
            "11\n"
          ]
        }
      ]
    },
    {
      "cell_type": "code",
      "source": [
        "# 3: Write a code to slice the first 3 characters from the string \"Python Programming\":\n",
        "course = \"Python Programming\"\n",
        "print(course[:3])"
      ],
      "metadata": {
        "colab": {
          "base_uri": "https://localhost:8080/"
        },
        "id": "j3O0wfih0NJD",
        "outputId": "23b6fbe1-c135-482f-9952-dedfa76f7b5d"
      },
      "execution_count": 3,
      "outputs": [
        {
          "output_type": "stream",
          "name": "stdout",
          "text": [
            "Pyt\n"
          ]
        }
      ]
    },
    {
      "cell_type": "code",
      "source": [
        "# 4: Write a code to convert the string \"hello\" to uppercase:\n",
        "text = \"hello\"\n",
        "print(text.upper())"
      ],
      "metadata": {
        "colab": {
          "base_uri": "https://localhost:8080/"
        },
        "id": "yVABq7z20NFj",
        "outputId": "588dd0d1-8bf0-4ffa-ce9c-a9eae697f4d3"
      },
      "execution_count": 4,
      "outputs": [
        {
          "output_type": "stream",
          "name": "stdout",
          "text": [
            "HELLO\n"
          ]
        }
      ]
    },
    {
      "cell_type": "code",
      "source": [
        "# 5: Write a code to replace the word \"apple\" with \"orange\" in the string \"I like apple\":\n",
        "text = \"I like apple.\"\n",
        "new_text = text.replace(\"apple\", \"orange\")\n",
        "print(new_text)"
      ],
      "metadata": {
        "colab": {
          "base_uri": "https://localhost:8080/"
        },
        "id": "FnpwV_oU0NDX",
        "outputId": "05d9e1cc-b8e3-4754-f474-afc27e76b12b"
      },
      "execution_count": 5,
      "outputs": [
        {
          "output_type": "stream",
          "name": "stdout",
          "text": [
            "I like orange.\n"
          ]
        }
      ]
    },
    {
      "cell_type": "code",
      "source": [
        "# 6: Write a code to create a list with numbers 1 to 5 and print it:\n",
        "numbers = [1, 2, 3, 4, 5]\n",
        "print(numbers)"
      ],
      "metadata": {
        "colab": {
          "base_uri": "https://localhost:8080/"
        },
        "id": "bDU_x-q20NA4",
        "outputId": "f83bcc25-2706-4444-b185-1563d7d72d0e"
      },
      "execution_count": 6,
      "outputs": [
        {
          "output_type": "stream",
          "name": "stdout",
          "text": [
            "[1, 2, 3, 4, 5]\n"
          ]
        }
      ]
    },
    {
      "cell_type": "code",
      "source": [
        "# 7: Write a code to append the number 10 to the list [1, 2, 3, 4]:\n",
        "numbers = [1, 2, 3, 4]\n",
        "numbers.append(10)\n",
        "print(numbers)"
      ],
      "metadata": {
        "colab": {
          "base_uri": "https://localhost:8080/"
        },
        "id": "fFsATlyr0M-Y",
        "outputId": "6289b0b9-5d2b-471c-ed94-ade18863f198"
      },
      "execution_count": 7,
      "outputs": [
        {
          "output_type": "stream",
          "name": "stdout",
          "text": [
            "[1, 2, 3, 4, 10]\n"
          ]
        }
      ]
    },
    {
      "cell_type": "code",
      "source": [
        "# 8: Write a code to remove the number 3 from the list [1, 2, 3, 4, 5]:\n",
        "numbers =  [1, 2, 3, 4, 5]\n",
        "numbers.remove(2)\n",
        "print(numbers)"
      ],
      "metadata": {
        "colab": {
          "base_uri": "https://localhost:8080/"
        },
        "id": "dTygi87-0M8A",
        "outputId": "ba357f96-ed48-46ba-b37b-17e510520300"
      },
      "execution_count": 8,
      "outputs": [
        {
          "output_type": "stream",
          "name": "stdout",
          "text": [
            "[1, 3, 4, 5]\n"
          ]
        }
      ]
    },
    {
      "cell_type": "code",
      "source": [
        "# 9: Write a code to access the second element in the list ['a', 'b', 'c', 'd']:\n",
        "lst = ['a', 'b', 'c', 'd']\n",
        "print(f\"Second Element: {lst[1]}\")"
      ],
      "metadata": {
        "colab": {
          "base_uri": "https://localhost:8080/"
        },
        "id": "Pm4tHhEe0M5x",
        "outputId": "992ecf19-8b69-420c-82ad-18abf0ec8a9f"
      },
      "execution_count": 9,
      "outputs": [
        {
          "output_type": "stream",
          "name": "stdout",
          "text": [
            "Second Element: b\n"
          ]
        }
      ]
    },
    {
      "cell_type": "code",
      "source": [
        "# 10: Write a code to reverse the list [10, 20, 30, 40, 50]:\n",
        "numbers = [10, 20, 30, 40, 50]\n",
        "numbers.reverse()\n",
        "print(numbers)"
      ],
      "metadata": {
        "colab": {
          "base_uri": "https://localhost:8080/"
        },
        "id": "Gf8etFYU0M3V",
        "outputId": "33b77d48-8e71-4440-9c10-a26175095699"
      },
      "execution_count": 10,
      "outputs": [
        {
          "output_type": "stream",
          "name": "stdout",
          "text": [
            "[50, 40, 30, 20, 10]\n"
          ]
        }
      ]
    },
    {
      "cell_type": "code",
      "source": [
        "# 11: Write a code to create a tuple with the elements 100, 200, 300 and print it:\n",
        "num = (100, 200, 300)\n",
        "print(num)"
      ],
      "metadata": {
        "colab": {
          "base_uri": "https://localhost:8080/"
        },
        "id": "h0Xn_vgC0M1D",
        "outputId": "8a3ebfbc-6bcc-431c-d93d-99431edfbb56"
      },
      "execution_count": 11,
      "outputs": [
        {
          "output_type": "stream",
          "name": "stdout",
          "text": [
            "(100, 200, 300)\n"
          ]
        }
      ]
    },
    {
      "cell_type": "code",
      "source": [
        "# 12: Write a code to access the second-to-last element of the tuple ('red', 'green', 'blue', 'yellow'):\n",
        "colors = ('red', 'green', 'blue', 'yellow')\n",
        "print(colors[2:])"
      ],
      "metadata": {
        "colab": {
          "base_uri": "https://localhost:8080/"
        },
        "id": "qanE9r-m0Myt",
        "outputId": "a0a400f2-29d5-4bc7-c0e9-cae3dc173611"
      },
      "execution_count": 12,
      "outputs": [
        {
          "output_type": "stream",
          "name": "stdout",
          "text": [
            "('blue', 'yellow')\n"
          ]
        }
      ]
    },
    {
      "cell_type": "code",
      "source": [
        "# 13: Write a code to find the minimum number in the tuple (10, 20, 5, 15):\n",
        "num = (10, 20, 5, 15)\n",
        "print(min(num))"
      ],
      "metadata": {
        "colab": {
          "base_uri": "https://localhost:8080/"
        },
        "id": "PB-KoXuc0MuA",
        "outputId": "2f8bad78-0147-4c87-c64b-70449b325834"
      },
      "execution_count": 13,
      "outputs": [
        {
          "output_type": "stream",
          "name": "stdout",
          "text": [
            "5\n"
          ]
        }
      ]
    },
    {
      "cell_type": "code",
      "source": [
        "# 14: Write a code to find the index of the element \"cat\" in the tuple ('dog', 'cat', 'rabbit'):\n",
        "animal = ('dog', 'cat', 'rabbit')\n",
        "print(animal.index('cat'))"
      ],
      "metadata": {
        "colab": {
          "base_uri": "https://localhost:8080/"
        },
        "id": "fDkBxQ2k0Mrf",
        "outputId": "5e99a73b-da4b-4af9-cde4-40fe93c494c5"
      },
      "execution_count": 14,
      "outputs": [
        {
          "output_type": "stream",
          "name": "stdout",
          "text": [
            "1\n"
          ]
        }
      ]
    },
    {
      "cell_type": "code",
      "source": [
        "# 15: Write a code to create a tuple containing three different fruits and check if \"kiwi\" is in it:\n",
        "fruits = (\"apple\", \"banana\", \"mango\")\n",
        "if \"kiwi\" in fruits:\n",
        "    print(\"Kiwi is in the tuple.\")\n",
        "else:\n",
        "    print(\"Kiwi is not in the tuple.\")"
      ],
      "metadata": {
        "colab": {
          "base_uri": "https://localhost:8080/"
        },
        "id": "iC59V3El0MpP",
        "outputId": "64b83812-d6e5-4490-c66a-19f6526d75e3"
      },
      "execution_count": 15,
      "outputs": [
        {
          "output_type": "stream",
          "name": "stdout",
          "text": [
            "Kiwi is not in the tuple.\n"
          ]
        }
      ]
    },
    {
      "cell_type": "code",
      "source": [
        "# 16: Write a code to create a set with the elements 'a', 'b', 'c' and print it:\n",
        "my_set = {'a', 'b', 'c'}\n",
        "print(my_set)"
      ],
      "metadata": {
        "colab": {
          "base_uri": "https://localhost:8080/"
        },
        "id": "IgN7ltUo0MnB",
        "outputId": "0e9f8184-d3ad-48e5-a968-0c34b2c734b0"
      },
      "execution_count": 16,
      "outputs": [
        {
          "output_type": "stream",
          "name": "stdout",
          "text": [
            "{'b', 'a', 'c'}\n"
          ]
        }
      ]
    },
    {
      "cell_type": "code",
      "source": [
        "# 17: Write a code to clear all elements from the set {1, 2, 3, 4, 5}:\n",
        "my_set = {1, 2, 3, 4, 5}\n",
        "my_set.clear()\n",
        "print(my_set)"
      ],
      "metadata": {
        "colab": {
          "base_uri": "https://localhost:8080/"
        },
        "id": "6EzOYV9A0Mkc",
        "outputId": "a5d603d8-035f-4759-aeeb-7567990c427b"
      },
      "execution_count": 17,
      "outputs": [
        {
          "output_type": "stream",
          "name": "stdout",
          "text": [
            "set()\n"
          ]
        }
      ]
    },
    {
      "cell_type": "code",
      "source": [
        "# 18: Write a code to remove the element 4 from the set {1, 2, 3, 4}:\n",
        "my_set = {1, 2, 3, 4}\n",
        "my_set.remove(4)\n",
        "print(my_set)"
      ],
      "metadata": {
        "colab": {
          "base_uri": "https://localhost:8080/"
        },
        "id": "gmaepp830Mhw",
        "outputId": "5d176431-90d9-4cbb-cea9-629a1603d968"
      },
      "execution_count": 18,
      "outputs": [
        {
          "output_type": "stream",
          "name": "stdout",
          "text": [
            "{1, 2, 3}\n"
          ]
        }
      ]
    },
    {
      "cell_type": "code",
      "source": [
        "# 19: Write a code to find the union of two sets {1, 2, 3} and {3, 4, 5}:\n",
        "set1 = {1, 2, 3}\n",
        "set2 = {3, 4, 5}\n",
        "print(set1 | set2)"
      ],
      "metadata": {
        "colab": {
          "base_uri": "https://localhost:8080/"
        },
        "id": "xBSHpvMU0MT2",
        "outputId": "53f88235-ef44-4cea-ba62-0a129be38b32"
      },
      "execution_count": 19,
      "outputs": [
        {
          "output_type": "stream",
          "name": "stdout",
          "text": [
            "{1, 2, 3, 4, 5}\n"
          ]
        }
      ]
    },
    {
      "cell_type": "code",
      "source": [
        "# 20: Write a code to find the intersection of two sets {1, 2, 3} and {2, 3, 4}:\n",
        "set1 = {1, 2, 3}\n",
        "set2 = {2, 3, 4}\n",
        "print(set1 & set2)"
      ],
      "metadata": {
        "colab": {
          "base_uri": "https://localhost:8080/"
        },
        "id": "aKKQHjFt06hJ",
        "outputId": "c4569986-4e4b-41d9-8658-3b1ac4fafae1"
      },
      "execution_count": 20,
      "outputs": [
        {
          "output_type": "stream",
          "name": "stdout",
          "text": [
            "{2, 3}\n"
          ]
        }
      ]
    },
    {
      "cell_type": "code",
      "source": [
        "# 21: Write a code to create a dictionary with the keys \"name\", \"age\", and \"city\", and print it:\n",
        "info = {\"name\": \"Diya\", \"age\": 20, \"city\": \"Ahmedabad\"}\n",
        "print(info)"
      ],
      "metadata": {
        "colab": {
          "base_uri": "https://localhost:8080/"
        },
        "id": "2g525HNS1f45",
        "outputId": "8b51d231-89ad-4003-8956-2bb09b955a5b"
      },
      "execution_count": 21,
      "outputs": [
        {
          "output_type": "stream",
          "name": "stdout",
          "text": [
            "{'name': 'Diya', 'age': 20, 'city': 'Ahmedabad'}\n"
          ]
        }
      ]
    },
    {
      "cell_type": "code",
      "source": [
        "# 22: Write a code to add a new key-value pair \"country\": \"USA\" to the dictionary {'name': 'John', 'age': 25}:\n",
        "info =  {'name': 'John', 'age': 25}\n",
        "info[\"country\"] = \"USA\"\n",
        "print(info)"
      ],
      "metadata": {
        "colab": {
          "base_uri": "https://localhost:8080/"
        },
        "id": "QZu5kSSu1fyI",
        "outputId": "7fb4f6ab-9331-46d5-b536-8c7c9fd48762"
      },
      "execution_count": 22,
      "outputs": [
        {
          "output_type": "stream",
          "name": "stdout",
          "text": [
            "{'name': 'John', 'age': 25, 'country': 'USA'}\n"
          ]
        }
      ]
    },
    {
      "cell_type": "code",
      "source": [
        "# 23: Write a code to access the value associated with the key \"name\" in the dictionary {'name': 'Alice', 'age': 30}:\n",
        "info = {'name': 'Alice', 'age': 30}\n",
        "print(info['name'])"
      ],
      "metadata": {
        "colab": {
          "base_uri": "https://localhost:8080/"
        },
        "id": "LKXqB2eB1fiL",
        "outputId": "7ed5f896-a966-4b59-ee27-05dc7bd6b7b7"
      },
      "execution_count": 23,
      "outputs": [
        {
          "output_type": "stream",
          "name": "stdout",
          "text": [
            "Alice\n"
          ]
        }
      ]
    },
    {
      "cell_type": "code",
      "source": [
        "# 24: Write a code to remove the key \"age\" from the dictionary {'name': 'Bob', 'age': 22, 'city': 'New York'}:\n",
        "info = {'name': 'Bob', 'age': 22, 'city': 'New York'}\n",
        "del info['age']\n",
        "print(info)"
      ],
      "metadata": {
        "colab": {
          "base_uri": "https://localhost:8080/"
        },
        "id": "wpHGJQjP1fb3",
        "outputId": "8eb8f10b-7221-484e-bab2-84571fbf9d0f"
      },
      "execution_count": 24,
      "outputs": [
        {
          "output_type": "stream",
          "name": "stdout",
          "text": [
            "{'name': 'Bob', 'city': 'New York'}\n"
          ]
        }
      ]
    },
    {
      "cell_type": "code",
      "source": [
        "# 25: Write a code to check if the key \"city\" exists in the dictionary {'name': 'Alice', 'city': 'Paris'}:\n",
        "info =  {'name': 'Alice', 'city': 'Paris'}\n",
        "if 'city' in info:\n",
        "    print(\"Yes, there is city!\")"
      ],
      "metadata": {
        "colab": {
          "base_uri": "https://localhost:8080/"
        },
        "id": "beTbfORr1fPB",
        "outputId": "4935d0b1-5e39-4254-8625-2f5b2bd7c762"
      },
      "execution_count": 25,
      "outputs": [
        {
          "output_type": "stream",
          "name": "stdout",
          "text": [
            "Yes, there is city!\n"
          ]
        }
      ]
    },
    {
      "cell_type": "code",
      "source": [
        "# 26: Write a code to create a list, a tuple, and a dictionary, and print them all:\n",
        "numbers = [10, 20, 30, 40, 50]\n",
        "num = (100, 200, 300)\n",
        "info = {\"name\": \"Diya\", \"age\": 20, \"city\": \"Ahmedabad\"}\n",
        "print(f\"List: {numbers}\\nSet: {num}\\nDictionary: {info}\")"
      ],
      "metadata": {
        "colab": {
          "base_uri": "https://localhost:8080/"
        },
        "id": "0TmFcpTf13Ui",
        "outputId": "1db8b198-f9f4-43b1-945e-cb0ca6963746"
      },
      "execution_count": 26,
      "outputs": [
        {
          "output_type": "stream",
          "name": "stdout",
          "text": [
            "List: [10, 20, 30, 40, 50]\n",
            "Set: (100, 200, 300)\n",
            "Dictionary: {'name': 'Diya', 'age': 20, 'city': 'Ahmedabad'}\n"
          ]
        }
      ]
    },
    {
      "cell_type": "code",
      "source": [
        "# 27: Write a code to create a list of 5 random numbers between 1\n",
        "numbers = [12, 77, 93, 60, 26]\n",
        "numbers.sort()\n",
        "print(\"Sorted random numbers:\", numbers)"
      ],
      "metadata": {
        "colab": {
          "base_uri": "https://localhost:8080/"
        },
        "id": "2dqjyjZu13O8",
        "outputId": "029c792f-157c-4808-ac4b-8658dc52eb82"
      },
      "execution_count": 27,
      "outputs": [
        {
          "output_type": "stream",
          "name": "stdout",
          "text": [
            "Sorted random numbers: [12, 26, 60, 77, 93]\n"
          ]
        }
      ]
    },
    {
      "cell_type": "code",
      "source": [
        "# 28: Write a code to create a list with strings and print the element at the third index:\n",
        "fruits = [\"Orange\", \"Banana\", \"Mango\", \"Kiwi\", \"Cherry\"]\n",
        "print(fruits[3])"
      ],
      "metadata": {
        "colab": {
          "base_uri": "https://localhost:8080/"
        },
        "id": "MFxzLayy13Dz",
        "outputId": "ca112d4d-185b-4315-9c80-c28a4abccdd5"
      },
      "execution_count": 28,
      "outputs": [
        {
          "output_type": "stream",
          "name": "stdout",
          "text": [
            "Kiwi\n"
          ]
        }
      ]
    },
    {
      "cell_type": "code",
      "source": [
        "# 29: Write a code to combine two dictionaries into one and print the result:\n",
        "dict1 = {\"name\": \"Diya\", \"age\": 20}\n",
        "dict2 = {\"city\": \"Ahmedabad\", \"college\": \"SNU\"}\n",
        "dict1.update(dict2)\n",
        "print(\"Combined Dictionary:\", dict1)"
      ],
      "metadata": {
        "colab": {
          "base_uri": "https://localhost:8080/"
        },
        "id": "xGiwitOr128v",
        "outputId": "aa505c64-d14b-431b-ac7b-32649aca829c"
      },
      "execution_count": 29,
      "outputs": [
        {
          "output_type": "stream",
          "name": "stdout",
          "text": [
            "Combined Dictionary: {'name': 'Diya', 'age': 20, 'city': 'Ahmedabad', 'college': 'SNU'}\n"
          ]
        }
      ]
    },
    {
      "cell_type": "code",
      "source": [
        "# 30: Write a code to convert a list of strings into a set:\n",
        "fruits = [\"Orange\", \"Banana\", \"Mango\", \"Kiwi\", \"Cherry\"]\n",
        "fruits_set = set(fruits)\n",
        "print(fruits_set)"
      ],
      "metadata": {
        "colab": {
          "base_uri": "https://localhost:8080/"
        },
        "id": "IkN91W4j12ve",
        "outputId": "285ec1d1-3f23-4841-f25f-0b504c9cd050"
      },
      "execution_count": 30,
      "outputs": [
        {
          "output_type": "stream",
          "name": "stdout",
          "text": [
            "{'Orange', 'Mango', 'Cherry', 'Kiwi', 'Banana'}\n"
          ]
        }
      ]
    }
  ]
}